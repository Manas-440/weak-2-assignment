{
 "cells": [
  {
   "cell_type": "code",
   "execution_count": null,
   "id": "e2f9509d-95ff-4bdc-bd9c-02dfd4ffa45c",
   "metadata": {},
   "outputs": [],
   "source": []
  },
  {
   "cell_type": "markdown",
   "id": "e792a8f4-0458-4bc3-aa69-35da1367c2c1",
   "metadata": {},
   "source": [
    "\n",
    "Q4. Ans-To execute python file in command line we can type key word python <file name> then press enter\n",
    "\n"
   ]
  }
 ],
 "metadata": {
  "kernelspec": {
   "display_name": "Python 3 (ipykernel)",
   "language": "python",
   "name": "python3"
  },
  "language_info": {
   "codemirror_mode": {
    "name": "ipython",
    "version": 3
   },
   "file_extension": ".py",
   "mimetype": "text/x-python",
   "name": "python",
   "nbconvert_exporter": "python",
   "pygments_lexer": "ipython3",
   "version": "3.10.8"
  }
 },
 "nbformat": 4,
 "nbformat_minor": 5
}
