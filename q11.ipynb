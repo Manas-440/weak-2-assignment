{
 "cells": [
  {
   "cell_type": "code",
   "execution_count": 21,
   "id": "ffb890d0-57b9-49f8-bc80-29ec6c2d9dc6",
   "metadata": {},
   "outputs": [
    {
     "data": {
      "text/plain": [
       "True"
      ]
     },
     "execution_count": 21,
     "metadata": {},
     "output_type": "execute_result"
    }
   ],
   "source": [
    "\n",
    "# Q11- create a variable name is_student check it is a student or notis_student=bool(1)\n",
    "is_student=bool(1)\n",
    "is_student"
   ]
  },
  {
   "cell_type": "code",
   "execution_count": 1,
   "id": "59bf124e-9787-40a4-b7d0-55c881b2f3d7",
   "metadata": {},
   "outputs": [
    {
     "data": {
      "text/plain": [
       "False"
      ]
     },
     "execution_count": 1,
     "metadata": {},
     "output_type": "execute_result"
    }
   ],
   "source": [
    "is_student=bool(0)\n",
    "is_student"
   ]
  },
  {
   "cell_type": "code",
   "execution_count": null,
   "id": "84d3de71-7a85-432f-b93d-14d44ce2e27f",
   "metadata": {},
   "outputs": [],
   "source": []
  }
 ],
 "metadata": {
  "kernelspec": {
   "display_name": "Python 3 (ipykernel)",
   "language": "python",
   "name": "python3"
  },
  "language_info": {
   "codemirror_mode": {
    "name": "ipython",
    "version": 3
   },
   "file_extension": ".py",
   "mimetype": "text/x-python",
   "name": "python",
   "nbconvert_exporter": "python",
   "pygments_lexer": "ipython3",
   "version": "3.10.8"
  }
 },
 "nbformat": 4,
 "nbformat_minor": 5
}
