{
 "cells": [
  {
   "cell_type": "markdown",
   "id": "45b37cb7-cbde-4464-bc4c-a127d3370942",
   "metadata": {},
   "source": [
    "Q1 .   Ans-   Comment in python identified by ' # 'symbole\n",
    "and it may be enclosed by 3 times semi collone\n",
    "    \n",
    "    It can be 2 type :\n",
    "        1. single line comment  Ex- (#  raja )\n",
    "        2. Multi line comment   Ex- ('''    raja ''')\n",
    " Q2 .  Ans- Data type in python are following type\n",
    "         such as :\n",
    "         1, numbers  -\n",
    "             int\n",
    "             floa\n",
    "             complex\n",
    "             bool\n",
    "        2.sequence -\n",
    "            string\n",
    "            list\n",
    "            tuples\n",
    "        3.set\n",
    "        4.None\n",
    "        5.dictionary\n",
    "    to assign a value we can use assignment operator (=)\n",
    "    and also run time\n",
    "    Ex- 1. a=5\n",
    "        2. input()\n",
    "Q3 .  Ans- to convert data type we can use typecasting\n",
    "        1. implicit \n",
    "        2. Explicit\n",
    "        These are the two method to convert the data\n",
    "Q4. Ans-To execute python file in command line we can type key word python <file name> then press enter\n",
    "\n"
   ]
  },
  {
   "cell_type": "code",
   "execution_count": 5,
   "id": "12808003-ffba-4d58-9125-5d43b826f02d",
   "metadata": {},
   "outputs": [
    {
     "name": "stdout",
     "output_type": "stream",
     "text": [
      "[2, 3]\n"
     ]
    }
   ],
   "source": [
    "# Q5. ans \n",
    "my_list=[1,2,3,4,5]\n",
    "d=my_list[1:3]\n",
    "print(d)"
   ]
  },
  {
   "cell_type": "markdown",
   "id": "b2f316e4-3637-48dc-8f9f-f9f99da3fb2e",
   "metadata": {},
   "source": [
    "Q6: Complex number is nothng but it is a number having 2 parts \n",
    "one is real part and other is imaginary part\n",
    " It can be represented by  like 5+7j\n",
    "    here imaginary part must be denoted by j\n",
    "    \n"
   ]
  },
  {
   "cell_type": "code",
   "execution_count": 6,
   "id": "00ada518-a1ed-4101-bea4-f85d6fa48806",
   "metadata": {},
   "outputs": [
    {
     "data": {
      "text/plain": [
       "25"
      ]
     },
     "execution_count": 6,
     "metadata": {},
     "output_type": "execute_result"
    }
   ],
   "source": [
    "#Q7. ans - Declare variable name Age =25\n",
    "age=25\n",
    "age\n"
   ]
  },
  {
   "cell_type": "code",
   "execution_count": 7,
   "id": "85a2712e-f047-431f-b2b2-b551a9928e63",
   "metadata": {},
   "outputs": [
    {
     "name": "stdout",
     "output_type": "stream",
     "text": [
      "<class 'float'>\n"
     ]
    }
   ],
   "source": [
    "#Q8. ans  Declare variable name price and its data type\n",
    "price=9.99\n",
    "print(type(price))"
   ]
  },
  {
   "cell_type": "code",
   "execution_count": 8,
   "id": "09ad7f0d-423f-408f-a35a-2167e67be4ed",
   "metadata": {},
   "outputs": [
    {
     "name": "stdout",
     "output_type": "stream",
     "text": [
      "Hrushikesh mohapatra\n"
     ]
    }
   ],
   "source": [
    "#Q9. assign vaeiable named name and print it\n",
    "Name='Hrushikesh mohapatra'\n",
    "print(Name)"
   ]
  },
  {
   "cell_type": "code",
   "execution_count": 12,
   "id": "bf9683ac-286a-4e9a-ab64-03972831550a",
   "metadata": {},
   "outputs": [
    {
     "data": {
      "text/plain": [
       "6"
      ]
     },
     "execution_count": 12,
     "metadata": {},
     "output_type": "execute_result"
    }
   ],
   "source": [
    "# Q10. a string \"hello world\" extract sub string\n",
    "a='hello world!'\n",
    "b=a.index('world')\n",
    "b"
   ]
  },
  {
   "cell_type": "code",
   "execution_count": 14,
   "id": "400814b4-96b4-40a7-b707-aef38e4f7e8c",
   "metadata": {},
   "outputs": [
    {
     "data": {
      "text/plain": [
       "11"
      ]
     },
     "execution_count": 14,
     "metadata": {},
     "output_type": "execute_result"
    }
   ],
   "source": [
    "len(a)"
   ]
  },
  {
   "cell_type": "code",
   "execution_count": 18,
   "id": "9367325e-4d70-4658-9534-353507e47f93",
   "metadata": {},
   "outputs": [
    {
     "data": {
      "text/plain": [
       "'world'"
      ]
     },
     "execution_count": 18,
     "metadata": {},
     "output_type": "execute_result"
    }
   ],
   "source": [
    "a[6:len(a)]"
   ]
  },
  {
   "cell_type": "code",
   "execution_count": 21,
   "id": "e82d4401-49b1-4071-917e-d54b1be0d825",
   "metadata": {},
   "outputs": [
    {
     "data": {
      "text/plain": [
       "True"
      ]
     },
     "execution_count": 21,
     "metadata": {},
     "output_type": "execute_result"
    }
   ],
   "source": [
    "\n",
    "# Q11- create a variable name is_student check it is a student or notis_student=bool(1)\n",
    "is_student=bool(1)\n",
    "is_student"
   ]
  },
  {
   "cell_type": "code",
   "execution_count": 22,
   "id": "2915eff3-e797-4df2-ac5a-6dab50c2be4e",
   "metadata": {},
   "outputs": [
    {
     "data": {
      "text/plain": [
       "False"
      ]
     },
     "execution_count": 22,
     "metadata": {},
     "output_type": "execute_result"
    }
   ],
   "source": [
    "is_student=bool(0)\n",
    "is_student"
   ]
  },
  {
   "cell_type": "code",
   "execution_count": null,
   "id": "66be4309-4ee7-404a-b8b8-2c5d0c5dc7f0",
   "metadata": {},
   "outputs": [],
   "source": []
  }
 ],
 "metadata": {
  "kernelspec": {
   "display_name": "Python 3 (ipykernel)",
   "language": "python",
   "name": "python3"
  },
  "language_info": {
   "codemirror_mode": {
    "name": "ipython",
    "version": 3
   },
   "file_extension": ".py",
   "mimetype": "text/x-python",
   "name": "python",
   "nbconvert_exporter": "python",
   "pygments_lexer": "ipython3",
   "version": "3.10.8"
  }
 },
 "nbformat": 4,
 "nbformat_minor": 5
}
