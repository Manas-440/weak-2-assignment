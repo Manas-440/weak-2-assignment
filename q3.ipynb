{
 "cells": [
  {
   "cell_type": "code",
   "execution_count": null,
   "id": "c0b02972-f185-4163-890f-f16c59bd07fd",
   "metadata": {},
   "outputs": [],
   "source": []
  },
  {
   "cell_type": "markdown",
   "id": "c4c837ab-0184-4da3-a210-a91967b32086",
   "metadata": {},
   "source": [
    "\n",
    "Q3 .  Ans- to convert data type we can use typecasting\n",
    "        1. implicit \n",
    "        2. Explicit\n",
    "        These are the two method to convert the data\n",
    "\n",
    "\n"
   ]
  }
 ],
 "metadata": {
  "kernelspec": {
   "display_name": "Python 3 (ipykernel)",
   "language": "python",
   "name": "python3"
  },
  "language_info": {
   "codemirror_mode": {
    "name": "ipython",
    "version": 3
   },
   "file_extension": ".py",
   "mimetype": "text/x-python",
   "name": "python",
   "nbconvert_exporter": "python",
   "pygments_lexer": "ipython3",
   "version": "3.10.8"
  }
 },
 "nbformat": 4,
 "nbformat_minor": 5
}
