{
 "cells": [
  {
   "cell_type": "code",
   "execution_count": null,
   "id": "dd334029-877d-445c-8522-2af070a62918",
   "metadata": {},
   "outputs": [],
   "source": []
  },
  {
   "cell_type": "code",
   "execution_count": 8,
   "id": "2fa189ab-5eae-4e4d-bd57-f74fe67f512a",
   "metadata": {},
   "outputs": [
    {
     "name": "stdout",
     "output_type": "stream",
     "text": [
      "Hrushikesh mohapatra\n"
     ]
    }
   ],
   "source": [
    "#Q9. assign vaeiable named name and print it\n",
    "Name='Hrushikesh mohapatra'\n",
    "print(Name)"
   ]
  }
 ],
 "metadata": {
  "kernelspec": {
   "display_name": "Python 3 (ipykernel)",
   "language": "python",
   "name": "python3"
  },
  "language_info": {
   "codemirror_mode": {
    "name": "ipython",
    "version": 3
   },
   "file_extension": ".py",
   "mimetype": "text/x-python",
   "name": "python",
   "nbconvert_exporter": "python",
   "pygments_lexer": "ipython3",
   "version": "3.10.8"
  }
 },
 "nbformat": 4,
 "nbformat_minor": 5
}
