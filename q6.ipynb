{
 "cells": [
  {
   "cell_type": "code",
   "execution_count": null,
   "id": "fa88c5d5-bb38-472d-b700-1d3609aafd63",
   "metadata": {},
   "outputs": [],
   "source": []
  },
  {
   "cell_type": "markdown",
   "id": "b25ffef7-d1dd-4b4b-83ed-dc8aa8f77705",
   "metadata": {},
   "source": [
    "Q6: Complex number is nothng but it is a number having 2 parts \n",
    "one is real part and other is imaginary part\n",
    " It can be represented by  like 5+7j\n",
    "    here imaginary part must be denoted by 'j' .\n",
    "    \n"
   ]
  },
  {
   "cell_type": "code",
   "execution_count": null,
   "id": "06686fbb-75db-4a2d-a17c-b94d565547ea",
   "metadata": {},
   "outputs": [],
   "source": []
  }
 ],
 "metadata": {
  "kernelspec": {
   "display_name": "Python 3 (ipykernel)",
   "language": "python",
   "name": "python3"
  },
  "language_info": {
   "codemirror_mode": {
    "name": "ipython",
    "version": 3
   },
   "file_extension": ".py",
   "mimetype": "text/x-python",
   "name": "python",
   "nbconvert_exporter": "python",
   "pygments_lexer": "ipython3",
   "version": "3.10.8"
  }
 },
 "nbformat": 4,
 "nbformat_minor": 5
}
