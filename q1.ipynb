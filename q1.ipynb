{
 "cells": [
  {
   "cell_type": "markdown",
   "id": "bb696870-5dc3-4679-a482-6581838d3488",
   "metadata": {},
   "source": [
    "Q1 .   Ans-   Comment in python identified by ' # 'symbole\n",
    "and it may be enclosed by 3 times semi collone\n",
    "    \n",
    "    It can be 2 type :\n",
    "        1. single line comment  Ex- (#  raja )\n",
    "        2. Multi line comment   Ex- ('''    raja ''')6\n"
   ]
  }
 ],
 "metadata": {
  "kernelspec": {
   "display_name": "Python 3 (ipykernel)",
   "language": "python",
   "name": "python3"
  },
  "language_info": {
   "codemirror_mode": {
    "name": "ipython",
    "version": 3
   },
   "file_extension": ".py",
   "mimetype": "text/x-python",
   "name": "python",
   "nbconvert_exporter": "python",
   "pygments_lexer": "ipython3",
   "version": "3.10.8"
  }
 },
 "nbformat": 4,
 "nbformat_minor": 5
}
