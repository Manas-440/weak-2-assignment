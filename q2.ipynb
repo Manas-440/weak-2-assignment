{
 "cells": [
  {
   "cell_type": "code",
   "execution_count": null,
   "id": "004c0331-4a82-4cc6-9b42-54ffc105608c",
   "metadata": {},
   "outputs": [],
   "source": []
  },
  {
   "cell_type": "markdown",
   "id": "9e9e6de7-4fae-4f5c-bbd7-ae92e75989e2",
   "metadata": {},
   "source": [
    "\n",
    " Q2 .  Ans- Data type in python are following type\n",
    "         such as :\n",
    "         1, numbers  -\n",
    "             int\n",
    "             floa\n",
    "             complex\n",
    "             bool\n",
    "        2.sequence -\n",
    "            string\n",
    "            list\n",
    "            tuples\n",
    "        3.set\n",
    "        4.None\n",
    "        5.dictionary\n",
    "    to assign a value we can use assignment operator (=)\n",
    "    and also run time\n",
    "    Ex- 1. a=5\n",
    "        2. input()\n"
   ]
  }
 ],
 "metadata": {
  "kernelspec": {
   "display_name": "Python 3 (ipykernel)",
   "language": "python",
   "name": "python3"
  },
  "language_info": {
   "codemirror_mode": {
    "name": "ipython",
    "version": 3
   },
   "file_extension": ".py",
   "mimetype": "text/x-python",
   "name": "python",
   "nbconvert_exporter": "python",
   "pygments_lexer": "ipython3",
   "version": "3.10.8"
  }
 },
 "nbformat": 4,
 "nbformat_minor": 5
}
